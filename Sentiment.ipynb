{
  "nbformat": 4,
  "nbformat_minor": 0,
  "metadata": {
    "colab": {
      "provenance": [],
      "authorship_tag": "ABX9TyNtqBr/Tq5hzwqgcFXPkmMv",
      "include_colab_link": true
    },
    "kernelspec": {
      "name": "python3",
      "display_name": "Python 3"
    },
    "language_info": {
      "name": "python"
    },
    "widgets": {
      "application/vnd.jupyter.widget-state+json": {
        "b294c7a62e7b4f1993d5e1b54c0134c5": {
          "model_module": "@jupyter-widgets/controls",
          "model_name": "HBoxModel",
          "model_module_version": "1.5.0",
          "state": {
            "_dom_classes": [],
            "_model_module": "@jupyter-widgets/controls",
            "_model_module_version": "1.5.0",
            "_model_name": "HBoxModel",
            "_view_count": null,
            "_view_module": "@jupyter-widgets/controls",
            "_view_module_version": "1.5.0",
            "_view_name": "HBoxView",
            "box_style": "",
            "children": [
              "IPY_MODEL_1085f766df3e4f91bb379d5efec0bda9",
              "IPY_MODEL_4398b040eb67490ebda92e0b8f926cbf",
              "IPY_MODEL_6a550e2e492247e3b98d7a0684cb1205"
            ],
            "layout": "IPY_MODEL_a99d6171889f47d1b7708a4c67aecdc1"
          }
        },
        "1085f766df3e4f91bb379d5efec0bda9": {
          "model_module": "@jupyter-widgets/controls",
          "model_name": "HTMLModel",
          "model_module_version": "1.5.0",
          "state": {
            "_dom_classes": [],
            "_model_module": "@jupyter-widgets/controls",
            "_model_module_version": "1.5.0",
            "_model_name": "HTMLModel",
            "_view_count": null,
            "_view_module": "@jupyter-widgets/controls",
            "_view_module_version": "1.5.0",
            "_view_name": "HTMLView",
            "description": "",
            "description_tooltip": null,
            "layout": "IPY_MODEL_41944cf704664358b4e4f432b3fc1cdf",
            "placeholder": "​",
            "style": "IPY_MODEL_3fd77a0e855a4813ba1b3eb74d41a097",
            "value": "100%"
          }
        },
        "4398b040eb67490ebda92e0b8f926cbf": {
          "model_module": "@jupyter-widgets/controls",
          "model_name": "FloatProgressModel",
          "model_module_version": "1.5.0",
          "state": {
            "_dom_classes": [],
            "_model_module": "@jupyter-widgets/controls",
            "_model_module_version": "1.5.0",
            "_model_name": "FloatProgressModel",
            "_view_count": null,
            "_view_module": "@jupyter-widgets/controls",
            "_view_module_version": "1.5.0",
            "_view_name": "ProgressView",
            "bar_style": "success",
            "description": "",
            "description_tooltip": null,
            "layout": "IPY_MODEL_a3f59351753e4b52a6559a8e0168e163",
            "max": 170,
            "min": 0,
            "orientation": "horizontal",
            "style": "IPY_MODEL_b12513deb0f84328a0f214b6deba048f",
            "value": 170
          }
        },
        "6a550e2e492247e3b98d7a0684cb1205": {
          "model_module": "@jupyter-widgets/controls",
          "model_name": "HTMLModel",
          "model_module_version": "1.5.0",
          "state": {
            "_dom_classes": [],
            "_model_module": "@jupyter-widgets/controls",
            "_model_module_version": "1.5.0",
            "_model_name": "HTMLModel",
            "_view_count": null,
            "_view_module": "@jupyter-widgets/controls",
            "_view_module_version": "1.5.0",
            "_view_name": "HTMLView",
            "description": "",
            "description_tooltip": null,
            "layout": "IPY_MODEL_ebf19d12dd6e43639ca82daea7e3493e",
            "placeholder": "​",
            "style": "IPY_MODEL_bcd2f3450bde481f84e37b6b2646086f",
            "value": " 170/170 [00:00&lt;00:00, 837.10it/s]"
          }
        },
        "a99d6171889f47d1b7708a4c67aecdc1": {
          "model_module": "@jupyter-widgets/base",
          "model_name": "LayoutModel",
          "model_module_version": "1.2.0",
          "state": {
            "_model_module": "@jupyter-widgets/base",
            "_model_module_version": "1.2.0",
            "_model_name": "LayoutModel",
            "_view_count": null,
            "_view_module": "@jupyter-widgets/base",
            "_view_module_version": "1.2.0",
            "_view_name": "LayoutView",
            "align_content": null,
            "align_items": null,
            "align_self": null,
            "border": null,
            "bottom": null,
            "display": null,
            "flex": null,
            "flex_flow": null,
            "grid_area": null,
            "grid_auto_columns": null,
            "grid_auto_flow": null,
            "grid_auto_rows": null,
            "grid_column": null,
            "grid_gap": null,
            "grid_row": null,
            "grid_template_areas": null,
            "grid_template_columns": null,
            "grid_template_rows": null,
            "height": null,
            "justify_content": null,
            "justify_items": null,
            "left": null,
            "margin": null,
            "max_height": null,
            "max_width": null,
            "min_height": null,
            "min_width": null,
            "object_fit": null,
            "object_position": null,
            "order": null,
            "overflow": null,
            "overflow_x": null,
            "overflow_y": null,
            "padding": null,
            "right": null,
            "top": null,
            "visibility": null,
            "width": null
          }
        },
        "41944cf704664358b4e4f432b3fc1cdf": {
          "model_module": "@jupyter-widgets/base",
          "model_name": "LayoutModel",
          "model_module_version": "1.2.0",
          "state": {
            "_model_module": "@jupyter-widgets/base",
            "_model_module_version": "1.2.0",
            "_model_name": "LayoutModel",
            "_view_count": null,
            "_view_module": "@jupyter-widgets/base",
            "_view_module_version": "1.2.0",
            "_view_name": "LayoutView",
            "align_content": null,
            "align_items": null,
            "align_self": null,
            "border": null,
            "bottom": null,
            "display": null,
            "flex": null,
            "flex_flow": null,
            "grid_area": null,
            "grid_auto_columns": null,
            "grid_auto_flow": null,
            "grid_auto_rows": null,
            "grid_column": null,
            "grid_gap": null,
            "grid_row": null,
            "grid_template_areas": null,
            "grid_template_columns": null,
            "grid_template_rows": null,
            "height": null,
            "justify_content": null,
            "justify_items": null,
            "left": null,
            "margin": null,
            "max_height": null,
            "max_width": null,
            "min_height": null,
            "min_width": null,
            "object_fit": null,
            "object_position": null,
            "order": null,
            "overflow": null,
            "overflow_x": null,
            "overflow_y": null,
            "padding": null,
            "right": null,
            "top": null,
            "visibility": null,
            "width": null
          }
        },
        "3fd77a0e855a4813ba1b3eb74d41a097": {
          "model_module": "@jupyter-widgets/controls",
          "model_name": "DescriptionStyleModel",
          "model_module_version": "1.5.0",
          "state": {
            "_model_module": "@jupyter-widgets/controls",
            "_model_module_version": "1.5.0",
            "_model_name": "DescriptionStyleModel",
            "_view_count": null,
            "_view_module": "@jupyter-widgets/base",
            "_view_module_version": "1.2.0",
            "_view_name": "StyleView",
            "description_width": ""
          }
        },
        "a3f59351753e4b52a6559a8e0168e163": {
          "model_module": "@jupyter-widgets/base",
          "model_name": "LayoutModel",
          "model_module_version": "1.2.0",
          "state": {
            "_model_module": "@jupyter-widgets/base",
            "_model_module_version": "1.2.0",
            "_model_name": "LayoutModel",
            "_view_count": null,
            "_view_module": "@jupyter-widgets/base",
            "_view_module_version": "1.2.0",
            "_view_name": "LayoutView",
            "align_content": null,
            "align_items": null,
            "align_self": null,
            "border": null,
            "bottom": null,
            "display": null,
            "flex": null,
            "flex_flow": null,
            "grid_area": null,
            "grid_auto_columns": null,
            "grid_auto_flow": null,
            "grid_auto_rows": null,
            "grid_column": null,
            "grid_gap": null,
            "grid_row": null,
            "grid_template_areas": null,
            "grid_template_columns": null,
            "grid_template_rows": null,
            "height": null,
            "justify_content": null,
            "justify_items": null,
            "left": null,
            "margin": null,
            "max_height": null,
            "max_width": null,
            "min_height": null,
            "min_width": null,
            "object_fit": null,
            "object_position": null,
            "order": null,
            "overflow": null,
            "overflow_x": null,
            "overflow_y": null,
            "padding": null,
            "right": null,
            "top": null,
            "visibility": null,
            "width": null
          }
        },
        "b12513deb0f84328a0f214b6deba048f": {
          "model_module": "@jupyter-widgets/controls",
          "model_name": "ProgressStyleModel",
          "model_module_version": "1.5.0",
          "state": {
            "_model_module": "@jupyter-widgets/controls",
            "_model_module_version": "1.5.0",
            "_model_name": "ProgressStyleModel",
            "_view_count": null,
            "_view_module": "@jupyter-widgets/base",
            "_view_module_version": "1.2.0",
            "_view_name": "StyleView",
            "bar_color": null,
            "description_width": ""
          }
        },
        "ebf19d12dd6e43639ca82daea7e3493e": {
          "model_module": "@jupyter-widgets/base",
          "model_name": "LayoutModel",
          "model_module_version": "1.2.0",
          "state": {
            "_model_module": "@jupyter-widgets/base",
            "_model_module_version": "1.2.0",
            "_model_name": "LayoutModel",
            "_view_count": null,
            "_view_module": "@jupyter-widgets/base",
            "_view_module_version": "1.2.0",
            "_view_name": "LayoutView",
            "align_content": null,
            "align_items": null,
            "align_self": null,
            "border": null,
            "bottom": null,
            "display": null,
            "flex": null,
            "flex_flow": null,
            "grid_area": null,
            "grid_auto_columns": null,
            "grid_auto_flow": null,
            "grid_auto_rows": null,
            "grid_column": null,
            "grid_gap": null,
            "grid_row": null,
            "grid_template_areas": null,
            "grid_template_columns": null,
            "grid_template_rows": null,
            "height": null,
            "justify_content": null,
            "justify_items": null,
            "left": null,
            "margin": null,
            "max_height": null,
            "max_width": null,
            "min_height": null,
            "min_width": null,
            "object_fit": null,
            "object_position": null,
            "order": null,
            "overflow": null,
            "overflow_x": null,
            "overflow_y": null,
            "padding": null,
            "right": null,
            "top": null,
            "visibility": null,
            "width": null
          }
        },
        "bcd2f3450bde481f84e37b6b2646086f": {
          "model_module": "@jupyter-widgets/controls",
          "model_name": "DescriptionStyleModel",
          "model_module_version": "1.5.0",
          "state": {
            "_model_module": "@jupyter-widgets/controls",
            "_model_module_version": "1.5.0",
            "_model_name": "DescriptionStyleModel",
            "_view_count": null,
            "_view_module": "@jupyter-widgets/base",
            "_view_module_version": "1.2.0",
            "_view_name": "StyleView",
            "description_width": ""
          }
        }
      }
    }
  },
  "cells": [
    {
      "cell_type": "markdown",
      "metadata": {
        "id": "view-in-github",
        "colab_type": "text"
      },
      "source": [
        "<a href=\"https://colab.research.google.com/github/EloMleko/YouTube-Comments---Sentiment-Analysis/blob/main/Sentiment.ipynb\" target=\"_parent\"><img src=\"https://colab.research.google.com/assets/colab-badge.svg\" alt=\"Open In Colab\"/></a>"
      ]
    },
    {
      "cell_type": "code",
      "execution_count": 1,
      "metadata": {
        "id": "Aq72e5PtJkxu"
      },
      "outputs": [],
      "source": [
        "from googleapiclient.discovery import build\n",
        "import pandas as pd\n",
        "import matplotlib.pyplot as plt\n",
        "import numpy as np\n",
        "import nltk"
      ]
    },
    {
      "cell_type": "code",
      "source": [
        "with open('/content/api', 'r') as file:\n",
        "  api_key = file.read()\n",
        "video_id = 'hPi680baunE'\n",
        "youtube_build = build('youtube', 'v3', developerKey=api_key)"
      ],
      "metadata": {
        "id": "VYUdGDEiJyHt"
      },
      "execution_count": 2,
      "outputs": []
    },
    {
      "cell_type": "code",
      "source": [
        "def get_video_comments(youtube, video_id):\n",
        "\n",
        "  comments_list = []\n",
        "  next_page_token = None\n",
        "\n",
        "  while True:\n",
        "      request = youtube.commentThreads().list(\n",
        "          part='snippet',\n",
        "          videoId = video_id,\n",
        "          order='relevance',\n",
        "          pageToken = next_page_token,\n",
        "          maxResults=100)\n",
        "      response = request.execute()\n",
        "\n",
        "      for comment in response['items']:\n",
        "        comments_list_parameters =  {'text': comment['snippet']['topLevelComment']['snippet']['textOriginal'],\n",
        "                                  'like_count': comment['snippet']['topLevelComment']['snippet']['likeCount'],\n",
        "                                 'published': comment['snippet']['topLevelComment']['snippet']['publishedAt']\n",
        "                                }\n",
        "\n",
        "        comments_list.append(comments_list_parameters)\n",
        "\n",
        "      if 'nextPageToken' not in response:\n",
        "        break\n",
        "\n",
        "      next_page_token = response['nextPageToken']\n",
        "\n",
        "  return comments_list"
      ],
      "metadata": {
        "id": "VF3eY_ztkuQj"
      },
      "execution_count": 3,
      "outputs": []
    },
    {
      "cell_type": "code",
      "source": [
        "comments= get_video_comments(youtube_build, video_id)"
      ],
      "metadata": {
        "id": "tyalzwKZROUd"
      },
      "execution_count": 4,
      "outputs": []
    },
    {
      "cell_type": "markdown",
      "source": [
        "### Create dataset"
      ],
      "metadata": {
        "id": "FKsiYKOwL6bR"
      }
    },
    {
      "cell_type": "code",
      "source": [
        "df = pd.DataFrame(comments)"
      ],
      "metadata": {
        "id": "XG8p0IH5Re6V"
      },
      "execution_count": 5,
      "outputs": []
    },
    {
      "cell_type": "code",
      "source": [
        "df"
      ],
      "metadata": {
        "colab": {
          "base_uri": "https://localhost:8080/",
          "height": 423
        },
        "collapsed": true,
        "id": "nbU8lpsSRZQK",
        "outputId": "5acd1592-38d5-417c-f54e-8cd89461eede"
      },
      "execution_count": 6,
      "outputs": [
        {
          "output_type": "execute_result",
          "data": {
            "text/plain": [
              "                                                  text  like_count  \\\n",
              "0    “Being emotional got the best of him” \\nProcee...         116   \n",
              "1    Russian state media is hilarious to watch -- i...          77   \n",
              "2    \"You are a pathetic nobody\" is better then som...          30   \n",
              "3    ''Those who can make you believe absurdities c...          50   \n",
              "4    \"Don't interrupt when your enemies are making ...          72   \n",
              "..                                                 ...         ...   \n",
              "165  Many of us claim that Switzerland needs to pic...           0   \n",
              "166                                        what a joke           0   \n",
              "167                                    Send atacms NOW           0   \n",
              "168  aaaaahahahahahahaha russia aaaahahaahahahahaha...           0   \n",
              "169                         Putin is loosing his grip.           0   \n",
              "\n",
              "                published  \n",
              "0    2023-07-15T01:33:57Z  \n",
              "1    2023-07-15T05:50:45Z  \n",
              "2    2023-07-15T03:52:51Z  \n",
              "3    2023-07-15T01:03:30Z  \n",
              "4    2023-07-15T00:45:03Z  \n",
              "..                    ...  \n",
              "165  2023-07-15T08:09:44Z  \n",
              "166  2023-07-15T08:14:16Z  \n",
              "167  2023-07-15T04:28:53Z  \n",
              "168  2023-07-15T07:08:59Z  \n",
              "169  2023-07-15T05:06:32Z  \n",
              "\n",
              "[170 rows x 3 columns]"
            ],
            "text/html": [
              "\n",
              "\n",
              "  <div id=\"df-7e38c072-3620-420b-a0f6-50ff3f70b9c9\">\n",
              "    <div class=\"colab-df-container\">\n",
              "      <div>\n",
              "<style scoped>\n",
              "    .dataframe tbody tr th:only-of-type {\n",
              "        vertical-align: middle;\n",
              "    }\n",
              "\n",
              "    .dataframe tbody tr th {\n",
              "        vertical-align: top;\n",
              "    }\n",
              "\n",
              "    .dataframe thead th {\n",
              "        text-align: right;\n",
              "    }\n",
              "</style>\n",
              "<table border=\"1\" class=\"dataframe\">\n",
              "  <thead>\n",
              "    <tr style=\"text-align: right;\">\n",
              "      <th></th>\n",
              "      <th>text</th>\n",
              "      <th>like_count</th>\n",
              "      <th>published</th>\n",
              "    </tr>\n",
              "  </thead>\n",
              "  <tbody>\n",
              "    <tr>\n",
              "      <th>0</th>\n",
              "      <td>“Being emotional got the best of him” \\nProcee...</td>\n",
              "      <td>116</td>\n",
              "      <td>2023-07-15T01:33:57Z</td>\n",
              "    </tr>\n",
              "    <tr>\n",
              "      <th>1</th>\n",
              "      <td>Russian state media is hilarious to watch -- i...</td>\n",
              "      <td>77</td>\n",
              "      <td>2023-07-15T05:50:45Z</td>\n",
              "    </tr>\n",
              "    <tr>\n",
              "      <th>2</th>\n",
              "      <td>\"You are a pathetic nobody\" is better then som...</td>\n",
              "      <td>30</td>\n",
              "      <td>2023-07-15T03:52:51Z</td>\n",
              "    </tr>\n",
              "    <tr>\n",
              "      <th>3</th>\n",
              "      <td>''Those who can make you believe absurdities c...</td>\n",
              "      <td>50</td>\n",
              "      <td>2023-07-15T01:03:30Z</td>\n",
              "    </tr>\n",
              "    <tr>\n",
              "      <th>4</th>\n",
              "      <td>\"Don't interrupt when your enemies are making ...</td>\n",
              "      <td>72</td>\n",
              "      <td>2023-07-15T00:45:03Z</td>\n",
              "    </tr>\n",
              "    <tr>\n",
              "      <th>...</th>\n",
              "      <td>...</td>\n",
              "      <td>...</td>\n",
              "      <td>...</td>\n",
              "    </tr>\n",
              "    <tr>\n",
              "      <th>165</th>\n",
              "      <td>Many of us claim that Switzerland needs to pic...</td>\n",
              "      <td>0</td>\n",
              "      <td>2023-07-15T08:09:44Z</td>\n",
              "    </tr>\n",
              "    <tr>\n",
              "      <th>166</th>\n",
              "      <td>what a joke</td>\n",
              "      <td>0</td>\n",
              "      <td>2023-07-15T08:14:16Z</td>\n",
              "    </tr>\n",
              "    <tr>\n",
              "      <th>167</th>\n",
              "      <td>Send atacms NOW</td>\n",
              "      <td>0</td>\n",
              "      <td>2023-07-15T04:28:53Z</td>\n",
              "    </tr>\n",
              "    <tr>\n",
              "      <th>168</th>\n",
              "      <td>aaaaahahahahahahaha russia aaaahahaahahahahaha...</td>\n",
              "      <td>0</td>\n",
              "      <td>2023-07-15T07:08:59Z</td>\n",
              "    </tr>\n",
              "    <tr>\n",
              "      <th>169</th>\n",
              "      <td>Putin is loosing his grip.</td>\n",
              "      <td>0</td>\n",
              "      <td>2023-07-15T05:06:32Z</td>\n",
              "    </tr>\n",
              "  </tbody>\n",
              "</table>\n",
              "<p>170 rows × 3 columns</p>\n",
              "</div>\n",
              "      <button class=\"colab-df-convert\" onclick=\"convertToInteractive('df-7e38c072-3620-420b-a0f6-50ff3f70b9c9')\"\n",
              "              title=\"Convert this dataframe to an interactive table.\"\n",
              "              style=\"display:none;\">\n",
              "\n",
              "  <svg xmlns=\"http://www.w3.org/2000/svg\" height=\"24px\"viewBox=\"0 0 24 24\"\n",
              "       width=\"24px\">\n",
              "    <path d=\"M0 0h24v24H0V0z\" fill=\"none\"/>\n",
              "    <path d=\"M18.56 5.44l.94 2.06.94-2.06 2.06-.94-2.06-.94-.94-2.06-.94 2.06-2.06.94zm-11 1L8.5 8.5l.94-2.06 2.06-.94-2.06-.94L8.5 2.5l-.94 2.06-2.06.94zm10 10l.94 2.06.94-2.06 2.06-.94-2.06-.94-.94-2.06-.94 2.06-2.06.94z\"/><path d=\"M17.41 7.96l-1.37-1.37c-.4-.4-.92-.59-1.43-.59-.52 0-1.04.2-1.43.59L10.3 9.45l-7.72 7.72c-.78.78-.78 2.05 0 2.83L4 21.41c.39.39.9.59 1.41.59.51 0 1.02-.2 1.41-.59l7.78-7.78 2.81-2.81c.8-.78.8-2.07 0-2.86zM5.41 20L4 18.59l7.72-7.72 1.47 1.35L5.41 20z\"/>\n",
              "  </svg>\n",
              "      </button>\n",
              "\n",
              "\n",
              "\n",
              "    <div id=\"df-d0b21daf-9c3a-47f4-a3b7-9d798aeec089\">\n",
              "      <button class=\"colab-df-quickchart\" onclick=\"quickchart('df-d0b21daf-9c3a-47f4-a3b7-9d798aeec089')\"\n",
              "              title=\"Suggest charts.\"\n",
              "              style=\"display:none;\">\n",
              "\n",
              "<svg xmlns=\"http://www.w3.org/2000/svg\" height=\"24px\"viewBox=\"0 0 24 24\"\n",
              "     width=\"24px\">\n",
              "    <g>\n",
              "        <path d=\"M19 3H5c-1.1 0-2 .9-2 2v14c0 1.1.9 2 2 2h14c1.1 0 2-.9 2-2V5c0-1.1-.9-2-2-2zM9 17H7v-7h2v7zm4 0h-2V7h2v10zm4 0h-2v-4h2v4z\"/>\n",
              "    </g>\n",
              "</svg>\n",
              "      </button>\n",
              "    </div>\n",
              "\n",
              "<style>\n",
              "  .colab-df-quickchart {\n",
              "    background-color: #E8F0FE;\n",
              "    border: none;\n",
              "    border-radius: 50%;\n",
              "    cursor: pointer;\n",
              "    display: none;\n",
              "    fill: #1967D2;\n",
              "    height: 32px;\n",
              "    padding: 0 0 0 0;\n",
              "    width: 32px;\n",
              "  }\n",
              "\n",
              "  .colab-df-quickchart:hover {\n",
              "    background-color: #E2EBFA;\n",
              "    box-shadow: 0px 1px 2px rgba(60, 64, 67, 0.3), 0px 1px 3px 1px rgba(60, 64, 67, 0.15);\n",
              "    fill: #174EA6;\n",
              "  }\n",
              "\n",
              "  [theme=dark] .colab-df-quickchart {\n",
              "    background-color: #3B4455;\n",
              "    fill: #D2E3FC;\n",
              "  }\n",
              "\n",
              "  [theme=dark] .colab-df-quickchart:hover {\n",
              "    background-color: #434B5C;\n",
              "    box-shadow: 0px 1px 3px 1px rgba(0, 0, 0, 0.15);\n",
              "    filter: drop-shadow(0px 1px 2px rgba(0, 0, 0, 0.3));\n",
              "    fill: #FFFFFF;\n",
              "  }\n",
              "</style>\n",
              "\n",
              "    <script>\n",
              "      async function quickchart(key) {\n",
              "        const containerElement = document.querySelector('#' + key);\n",
              "        const charts = await google.colab.kernel.invokeFunction(\n",
              "            'suggestCharts', [key], {});\n",
              "      }\n",
              "    </script>\n",
              "\n",
              "      <script>\n",
              "\n",
              "function displayQuickchartButton(domScope) {\n",
              "  let quickchartButtonEl =\n",
              "    domScope.querySelector('#df-d0b21daf-9c3a-47f4-a3b7-9d798aeec089 button.colab-df-quickchart');\n",
              "  quickchartButtonEl.style.display =\n",
              "    google.colab.kernel.accessAllowed ? 'block' : 'none';\n",
              "}\n",
              "\n",
              "        displayQuickchartButton(document);\n",
              "      </script>\n",
              "      <style>\n",
              "    .colab-df-container {\n",
              "      display:flex;\n",
              "      flex-wrap:wrap;\n",
              "      gap: 12px;\n",
              "    }\n",
              "\n",
              "    .colab-df-convert {\n",
              "      background-color: #E8F0FE;\n",
              "      border: none;\n",
              "      border-radius: 50%;\n",
              "      cursor: pointer;\n",
              "      display: none;\n",
              "      fill: #1967D2;\n",
              "      height: 32px;\n",
              "      padding: 0 0 0 0;\n",
              "      width: 32px;\n",
              "    }\n",
              "\n",
              "    .colab-df-convert:hover {\n",
              "      background-color: #E2EBFA;\n",
              "      box-shadow: 0px 1px 2px rgba(60, 64, 67, 0.3), 0px 1px 3px 1px rgba(60, 64, 67, 0.15);\n",
              "      fill: #174EA6;\n",
              "    }\n",
              "\n",
              "    [theme=dark] .colab-df-convert {\n",
              "      background-color: #3B4455;\n",
              "      fill: #D2E3FC;\n",
              "    }\n",
              "\n",
              "    [theme=dark] .colab-df-convert:hover {\n",
              "      background-color: #434B5C;\n",
              "      box-shadow: 0px 1px 3px 1px rgba(0, 0, 0, 0.15);\n",
              "      filter: drop-shadow(0px 1px 2px rgba(0, 0, 0, 0.3));\n",
              "      fill: #FFFFFF;\n",
              "    }\n",
              "  </style>\n",
              "\n",
              "      <script>\n",
              "        const buttonEl =\n",
              "          document.querySelector('#df-7e38c072-3620-420b-a0f6-50ff3f70b9c9 button.colab-df-convert');\n",
              "        buttonEl.style.display =\n",
              "          google.colab.kernel.accessAllowed ? 'block' : 'none';\n",
              "\n",
              "        async function convertToInteractive(key) {\n",
              "          const element = document.querySelector('#df-7e38c072-3620-420b-a0f6-50ff3f70b9c9');\n",
              "          const dataTable =\n",
              "            await google.colab.kernel.invokeFunction('convertToInteractive',\n",
              "                                                     [key], {});\n",
              "          if (!dataTable) return;\n",
              "\n",
              "          const docLinkHtml = 'Like what you see? Visit the ' +\n",
              "            '<a target=\"_blank\" href=https://colab.research.google.com/notebooks/data_table.ipynb>data table notebook</a>'\n",
              "            + ' to learn more about interactive tables.';\n",
              "          element.innerHTML = '';\n",
              "          dataTable['output_type'] = 'display_data';\n",
              "          await google.colab.output.renderOutput(dataTable, element);\n",
              "          const docLink = document.createElement('div');\n",
              "          docLink.innerHTML = docLinkHtml;\n",
              "          element.appendChild(docLink);\n",
              "        }\n",
              "      </script>\n",
              "    </div>\n",
              "  </div>\n"
            ]
          },
          "metadata": {},
          "execution_count": 6
        }
      ]
    },
    {
      "cell_type": "code",
      "source": [
        "df = df.sort_values(['like_count'], ascending=False)"
      ],
      "metadata": {
        "id": "Y-pITCtUVVG0"
      },
      "execution_count": 7,
      "outputs": []
    },
    {
      "cell_type": "code",
      "source": [
        "df = df.reset_index().rename(columns={'index': 'id'})"
      ],
      "metadata": {
        "id": "KgEe_bDPTS2Z"
      },
      "execution_count": 8,
      "outputs": []
    },
    {
      "cell_type": "code",
      "source": [
        "ax = df['like_count'].value_counts().sort_index().plot.bar(title='Count of likes', figsize=(10,5))\n",
        "ax.set_xlabel('Likes')"
      ],
      "metadata": {
        "colab": {
          "base_uri": "https://localhost:8080/",
          "height": 517
        },
        "id": "41O2pjVwV_MT",
        "outputId": "042d4a2e-86d4-4954-851b-1730ed0d5594"
      },
      "execution_count": 10,
      "outputs": [
        {
          "output_type": "execute_result",
          "data": {
            "text/plain": [
              "Text(0.5, 0, 'Likes')"
            ]
          },
          "metadata": {},
          "execution_count": 10
        },
        {
          "output_type": "display_data",
          "data": {
            "text/plain": [
              "<Figure size 1000x500 with 1 Axes>"
            ],
            "image/png": "[encoded data removed]"
          },
          "metadata": {}
        }
      ]
    },
    {
      "cell_type": "code",
      "source": [
        "example = df['text'][10]"
      ],
      "metadata": {
        "id": "4zbhZYhuqGMr"
      },
      "execution_count": 11,
      "outputs": []
    },
    {
      "cell_type": "code",
      "source": [
        "import nltk\n",
        "nltk.download('punkt')\n",
        "nltk.download('averaged_perceptron_tagger')\n",
        "nltk.download('maxent_ne_chunker')\n",
        "nltk.download('words')\n",
        "nltk.download('vader_lexicon')"
      ],
      "metadata": {
        "colab": {
          "base_uri": "https://localhost:8080/"
        },
        "collapsed": true,
        "id": "V-ipF9KzN08r",
        "outputId": "35a6c287-3dec-4892-8a2e-fca386174b4f"
      },
      "execution_count": 12,
      "outputs": [
        {
          "output_type": "stream",
          "name": "stderr",
          "text": [
            "[nltk_data] Downloading package punkt to /root/nltk_data...\n",
            "[nltk_data]   Package punkt is already up-to-date!\n",
            "[nltk_data] Downloading package averaged_perceptron_tagger to\n",
            "[nltk_data]     /root/nltk_data...\n",
            "[nltk_data]   Package averaged_perceptron_tagger is already up-to-\n",
            "[nltk_data]       date!\n",
            "[nltk_data] Downloading package maxent_ne_chunker to\n",
            "[nltk_data]     /root/nltk_data...\n",
            "[nltk_data]   Package maxent_ne_chunker is already up-to-date!\n",
            "[nltk_data] Downloading package words to /root/nltk_data...\n",
            "[nltk_data]   Package words is already up-to-date!\n",
            "[nltk_data] Downloading package vader_lexicon to /root/nltk_data...\n",
            "[nltk_data]   Package vader_lexicon is already up-to-date!\n"
          ]
        },
        {
          "output_type": "execute_result",
          "data": {
            "text/plain": [
              "True"
            ]
          },
          "metadata": {},
          "execution_count": 12
        }
      ]
    },
    {
      "cell_type": "code",
      "source": [
        "tokens = nltk.word_tokenize(example)\n",
        "tokens[:10]"
      ],
      "metadata": {
        "colab": {
          "base_uri": "https://localhost:8080/"
        },
        "id": "sCN5coKNNW3p",
        "outputId": "e76b4d12-8a57-40ba-8ea5-a0599a5a19bd"
      },
      "execution_count": 13,
      "outputs": [
        {
          "output_type": "execute_result",
          "data": {
            "text/plain": [
              "['``', 'You', 'are', 'a', 'pathetic', 'nobody', \"''\", 'is', 'better', 'then']"
            ]
          },
          "metadata": {},
          "execution_count": 13
        }
      ]
    },
    {
      "cell_type": "code",
      "source": [
        "tagged = nltk.pos_tag(tokens)\n",
        "tagged[:10]"
      ],
      "metadata": {
        "colab": {
          "base_uri": "https://localhost:8080/"
        },
        "id": "rA0VuUdtNXeI",
        "outputId": "75083d04-7ccd-4941-fa56-31ba4571c51b"
      },
      "execution_count": 14,
      "outputs": [
        {
          "output_type": "execute_result",
          "data": {
            "text/plain": [
              "[('``', '``'),\n",
              " ('You', 'PRP'),\n",
              " ('are', 'VBP'),\n",
              " ('a', 'DT'),\n",
              " ('pathetic', 'JJ'),\n",
              " ('nobody', 'NN'),\n",
              " (\"''\", \"''\"),\n",
              " ('is', 'VBZ'),\n",
              " ('better', 'RBR'),\n",
              " ('then', 'RB')]"
            ]
          },
          "metadata": {},
          "execution_count": 14
        }
      ]
    },
    {
      "cell_type": "code",
      "source": [
        "entities = nltk.chunk.ne_chunk(tagged)\n",
        "entities.pprint()"
      ],
      "metadata": {
        "colab": {
          "base_uri": "https://localhost:8080/"
        },
        "id": "xs2x1uG3OIOh",
        "outputId": "759dfa5b-3342-4513-ffaa-bf003a36f287"
      },
      "execution_count": 15,
      "outputs": [
        {
          "output_type": "stream",
          "name": "stdout",
          "text": [
            "(S\n",
            "  ``/``\n",
            "  You/PRP\n",
            "  are/VBP\n",
            "  a/DT\n",
            "  pathetic/JJ\n",
            "  nobody/NN\n",
            "  ''/''\n",
            "  is/VBZ\n",
            "  better/RBR\n",
            "  then/RB\n",
            "  someone/NN\n",
            "  whoc/NN\n",
            "  licks/VBZ\n",
            "  the/DT\n",
            "  feet/NNS\n",
            "  of/IN\n",
            "  a/DT\n",
            "  tiny/JJ\n",
            "  dictator/NN\n",
            "  ./.)\n"
          ]
        }
      ]
    },
    {
      "cell_type": "markdown",
      "source": [
        "VADER APPROACH"
      ],
      "metadata": {
        "id": "OwoyJnnDPXmU"
      }
    },
    {
      "cell_type": "code",
      "source": [
        "from nltk.sentiment import SentimentIntensityAnalyzer\n",
        "from tqdm.notebook import tqdm\n",
        "\n",
        "sia = SentimentIntensityAnalyzer()"
      ],
      "metadata": {
        "id": "Wl8gENdlOmNy"
      },
      "execution_count": 16,
      "outputs": []
    },
    {
      "cell_type": "code",
      "source": [
        "sia.polarity_scores('This is awful!')"
      ],
      "metadata": {
        "colab": {
          "base_uri": "https://localhost:8080/"
        },
        "id": "4vO2DaXOQWug",
        "outputId": "cbb83644-ac81-4172-d318-5510b1f527e8"
      },
      "execution_count": 17,
      "outputs": [
        {
          "output_type": "execute_result",
          "data": {
            "text/plain": [
              "{'neg': 0.622, 'neu': 0.378, 'pos': 0.0, 'compound': -0.5093}"
            ]
          },
          "metadata": {},
          "execution_count": 17
        }
      ]
    },
    {
      "cell_type": "code",
      "source": [
        "sia.polarity_scores(example)"
      ],
      "metadata": {
        "colab": {
          "base_uri": "https://localhost:8080/"
        },
        "id": "Fn8DwFkgQbBx",
        "outputId": "113d3bdc-aa9d-4a81-80c0-f04778c5a236"
      },
      "execution_count": 18,
      "outputs": [
        {
          "output_type": "execute_result",
          "data": {
            "text/plain": [
              "{'neg': 0.189, 'neu': 0.663, 'pos': 0.148, 'compound': -0.2023}"
            ]
          },
          "metadata": {},
          "execution_count": 18
        }
      ]
    },
    {
      "cell_type": "markdown",
      "source": [
        "# Run the polarity score on the enitre dataset"
      ],
      "metadata": {
        "id": "dmEyRwLARGI5"
      }
    },
    {
      "cell_type": "code",
      "source": [
        "res = {}\n",
        "for i, row in tqdm(df.iterrows(), total=len(df)):\n",
        "  text = row['text']\n",
        "  res[i] = sia.polarity_scores(text)\n"
      ],
      "metadata": {
        "colab": {
          "base_uri": "https://localhost:8080/",
          "height": 49,
          "referenced_widgets": [
            "b294c7a62e7b4f1993d5e1b54c0134c5",
            "1085f766df3e4f91bb379d5efec0bda9",
            "4398b040eb67490ebda92e0b8f926cbf",
            "6a550e2e492247e3b98d7a0684cb1205",
            "a99d6171889f47d1b7708a4c67aecdc1",
            "41944cf704664358b4e4f432b3fc1cdf",
            "3fd77a0e855a4813ba1b3eb74d41a097",
            "a3f59351753e4b52a6559a8e0168e163",
            "b12513deb0f84328a0f214b6deba048f",
            "ebf19d12dd6e43639ca82daea7e3493e",
            "bcd2f3450bde481f84e37b6b2646086f"
          ]
        },
        "id": "jIdr9Xd1RB9z",
        "outputId": "b49d4a33-9238-4685-9e61-f8737cdb936e"
      },
      "execution_count": 19,
      "outputs": [
        {
          "output_type": "display_data",
          "data": {
            "text/plain": [
              "  0%|          | 0/170 [00:00<?, ?it/s]"
            ],
            "application/vnd.jupyter.widget-view+json": {
              "version_major": 2,
              "version_minor": 0,
              "model_id": "b294c7a62e7b4f1993d5e1b54c0134c5"
            }
          },
          "metadata": {}
        }
      ]
    },
    {
      "cell_type": "code",
      "source": [
        "#@title\n",
        "res"
      ],
      "metadata": {
        "colab": {
          "base_uri": "https://localhost:8080/"
        },
        "collapsed": true,
        "cellView": "form",
        "id": "1-O4bGksR0bR",
        "outputId": "e09272ac-b130-473c-f6fa-9dfae1bcc46d"
      },
      "execution_count": 20,
      "outputs": [
        {
          "output_type": "execute_result",
          "data": {
            "text/plain": [
              "{0: {'neg': 0.34, 'neu': 0.467, 'pos': 0.193, 'compound': -0.6597},\n",
              " 1: {'neg': 0.0, 'neu': 0.876, 'pos': 0.124, 'compound': 0.4019},\n",
              " 2: {'neg': 0.448, 'neu': 0.393, 'pos': 0.16, 'compound': -0.5667},\n",
              " 3: {'neg': 0.0, 'neu': 1.0, 'pos': 0.0, 'compound': 0.0},\n",
              " 4: {'neg': 0.198, 'neu': 0.517, 'pos': 0.284, 'compound': 0.7678},\n",
              " 5: {'neg': 0.0, 'neu': 1.0, 'pos': 0.0, 'compound': 0.0},\n",
              " 6: {'neg': 0.0, 'neu': 0.845, 'pos': 0.155, 'compound': 0.296},\n",
              " 7: {'neg': 0.0, 'neu': 1.0, 'pos': 0.0, 'compound': 0.0},\n",
              " 8: {'neg': 0.0, 'neu': 0.915, 'pos': 0.085, 'compound': 0.3612},\n",
              " 9: {'neg': 0.0, 'neu': 1.0, 'pos': 0.0, 'compound': 0.0},\n",
              " 10: {'neg': 0.189, 'neu': 0.663, 'pos': 0.148, 'compound': -0.2023},\n",
              " 11: {'neg': 0.331, 'neu': 0.554, 'pos': 0.115, 'compound': -0.6868},\n",
              " 12: {'neg': 0.203, 'neu': 0.507, 'pos': 0.29, 'compound': 0.4062},\n",
              " 13: {'neg': 0.167, 'neu': 0.738, 'pos': 0.095, 'compound': -0.6789},\n",
              " 14: {'neg': 0.244, 'neu': 0.756, 'pos': 0.0, 'compound': -0.6705},\n",
              " 15: {'neg': 0.0, 'neu': 1.0, 'pos': 0.0, 'compound': 0.0},\n",
              " 16: {'neg': 0.0, 'neu': 0.899, 'pos': 0.101, 'compound': 0.2023},\n",
              " 17: {'neg': 0.085, 'neu': 0.677, 'pos': 0.238, 'compound': 0.6124},\n",
              " 18: {'neg': 0.449, 'neu': 0.551, 'pos': 0.0, 'compound': -0.6908},\n",
              " 19: {'neg': 0.0, 'neu': 0.783, 'pos': 0.217, 'compound': 0.3612},\n",
              " 20: {'neg': 0.0, 'neu': 0.737, 'pos': 0.263, 'compound': 0.3612},\n",
              " 21: {'neg': 0.0, 'neu': 0.841, 'pos': 0.159, 'compound': 0.6705},\n",
              " 22: {'neg': 0.0, 'neu': 0.706, 'pos': 0.294, 'compound': 0.3612},\n",
              " 23: {'neg': 0.37, 'neu': 0.63, 'pos': 0.0, 'compound': -0.6901},\n",
              " 24: {'neg': 0.0, 'neu': 1.0, 'pos': 0.0, 'compound': 0.0},\n",
              " 25: {'neg': 0.0, 'neu': 1.0, 'pos': 0.0, 'compound': 0.0},\n",
              " 26: {'neg': 0.0, 'neu': 0.494, 'pos': 0.506, 'compound': 0.6239},\n",
              " 27: {'neg': 0.265, 'neu': 0.735, 'pos': 0.0, 'compound': -0.7684},\n",
              " 28: {'neg': 0.083, 'neu': 0.721, 'pos': 0.196, 'compound': 0.7964},\n",
              " 29: {'neg': 0.0, 'neu': 0.795, 'pos': 0.205, 'compound': 0.5983},\n",
              " 30: {'neg': 0.0, 'neu': 0.86, 'pos': 0.14, 'compound': 0.2769},\n",
              " 31: {'neg': 0.0, 'neu': 0.886, 'pos': 0.114, 'compound': 0.4019},\n",
              " 32: {'neg': 0.193, 'neu': 0.695, 'pos': 0.112, 'compound': -0.3612},\n",
              " 33: {'neg': 0.0, 'neu': 0.826, 'pos': 0.174, 'compound': 0.2732},\n",
              " 34: {'neg': 0.0, 'neu': 1.0, 'pos': 0.0, 'compound': 0.0},\n",
              " 35: {'neg': 0.0, 'neu': 0.646, 'pos': 0.354, 'compound': 0.5095},\n",
              " 36: {'neg': 0.0, 'neu': 1.0, 'pos': 0.0, 'compound': 0.0},\n",
              " 37: {'neg': 0.232, 'neu': 0.673, 'pos': 0.095, 'compound': -0.501},\n",
              " 38: {'neg': 0.145, 'neu': 0.764, 'pos': 0.091, 'compound': -0.3262},\n",
              " 39: {'neg': 0.222, 'neu': 0.778, 'pos': 0.0, 'compound': -0.5719},\n",
              " 40: {'neg': 0.042, 'neu': 0.932, 'pos': 0.026, 'compound': -0.4215},\n",
              " 41: {'neg': 0.0, 'neu': 1.0, 'pos': 0.0, 'compound': 0.0},\n",
              " 42: {'neg': 0.175, 'neu': 0.722, 'pos': 0.104, 'compound': -0.5526},\n",
              " 43: {'neg': 0.0, 'neu': 0.674, 'pos': 0.326, 'compound': 0.7003},\n",
              " 44: {'neg': 0.115, 'neu': 0.885, 'pos': 0.0, 'compound': -0.296},\n",
              " 45: {'neg': 0.0, 'neu': 1.0, 'pos': 0.0, 'compound': 0.0},\n",
              " 46: {'neg': 0.125, 'neu': 0.73, 'pos': 0.146, 'compound': 0.1761},\n",
              " 47: {'neg': 0.15, 'neu': 0.806, 'pos': 0.045, 'compound': -0.743},\n",
              " 48: {'neg': 0.0, 'neu': 0.847, 'pos': 0.153, 'compound': 0.5859},\n",
              " 49: {'neg': 0.0, 'neu': 0.835, 'pos': 0.165, 'compound': 0.1955},\n",
              " 50: {'neg': 0.0, 'neu': 0.809, 'pos': 0.191, 'compound': 0.5106},\n",
              " 51: {'neg': 0.0, 'neu': 1.0, 'pos': 0.0, 'compound': 0.0},\n",
              " 52: {'neg': 0.0, 'neu': 1.0, 'pos': 0.0, 'compound': 0.0},\n",
              " 53: {'neg': 0.0, 'neu': 1.0, 'pos': 0.0, 'compound': 0.0},\n",
              " 54: {'neg': 0.083, 'neu': 0.705, 'pos': 0.212, 'compound': 0.6124},\n",
              " 55: {'neg': 0.0, 'neu': 1.0, 'pos': 0.0, 'compound': 0.0},\n",
              " 56: {'neg': 0.19, 'neu': 0.513, 'pos': 0.297, 'compound': 0.2674},\n",
              " 57: {'neg': 0.0, 'neu': 0.734, 'pos': 0.266, 'compound': 0.7845},\n",
              " 58: {'neg': 0.122, 'neu': 0.663, 'pos': 0.215, 'compound': 0.4019},\n",
              " 59: {'neg': 0.0, 'neu': 1.0, 'pos': 0.0, 'compound': 0.0},\n",
              " 60: {'neg': 0.215, 'neu': 0.094, 'pos': 0.691, 'compound': 0.7263},\n",
              " 61: {'neg': 0.211, 'neu': 0.734, 'pos': 0.055, 'compound': -0.624},\n",
              " 62: {'neg': 0.0, 'neu': 1.0, 'pos': 0.0, 'compound': 0.0},\n",
              " 63: {'neg': 0.0, 'neu': 0.564, 'pos': 0.436, 'compound': 0.8283},\n",
              " 64: {'neg': 0.736, 'neu': 0.264, 'pos': 0.0, 'compound': -0.4199},\n",
              " 65: {'neg': 0.0, 'neu': 1.0, 'pos': 0.0, 'compound': 0.0},\n",
              " 66: {'neg': 0.0, 'neu': 0.444, 'pos': 0.556, 'compound': 0.3612},\n",
              " 67: {'neg': 0.21, 'neu': 0.584, 'pos': 0.206, 'compound': -0.0173},\n",
              " 68: {'neg': 0.0, 'neu': 1.0, 'pos': 0.0, 'compound': 0.0},\n",
              " 69: {'neg': 0.0, 'neu': 1.0, 'pos': 0.0, 'compound': 0.0},\n",
              " 70: {'neg': 0.677, 'neu': 0.323, 'pos': 0.0, 'compound': -0.4939},\n",
              " 71: {'neg': 0.0, 'neu': 1.0, 'pos': 0.0, 'compound': 0.0},\n",
              " 72: {'neg': 0.0, 'neu': 1.0, 'pos': 0.0, 'compound': 0.0},\n",
              " 73: {'neg': 0.0, 'neu': 0.274, 'pos': 0.726, 'compound': 0.891},\n",
              " 74: {'neg': 0.084, 'neu': 0.916, 'pos': 0.0, 'compound': -0.3919},\n",
              " 75: {'neg': 0.0, 'neu': 0.824, 'pos': 0.176, 'compound': 0.4576},\n",
              " 76: {'neg': 0.219, 'neu': 0.781, 'pos': 0.0, 'compound': -0.7193},\n",
              " 77: {'neg': 0.137, 'neu': 0.722, 'pos': 0.14, 'compound': 0.0352},\n",
              " 78: {'neg': 0.0, 'neu': 0.854, 'pos': 0.146, 'compound': 0.4404},\n",
              " 79: {'neg': 0.0, 'neu': 0.818, 'pos': 0.182, 'compound': 0.4404},\n",
              " 80: {'neg': 0.139, 'neu': 0.811, 'pos': 0.05, 'compound': -0.5927},\n",
              " 81: {'neg': 0.202, 'neu': 0.798, 'pos': 0.0, 'compound': -0.5859},\n",
              " 82: {'neg': 0.297, 'neu': 0.703, 'pos': 0.0, 'compound': -0.652},\n",
              " 83: {'neg': 0.106, 'neu': 0.894, 'pos': 0.0, 'compound': -0.2235},\n",
              " 84: {'neg': 0.0, 'neu': 0.88, 'pos': 0.12, 'compound': 0.4576},\n",
              " 85: {'neg': 0.085, 'neu': 0.872, 'pos': 0.043, 'compound': -0.3182},\n",
              " 86: {'neg': 0.0, 'neu': 1.0, 'pos': 0.0, 'compound': 0.0},\n",
              " 87: {'neg': 0.128, 'neu': 0.872, 'pos': 0.0, 'compound': -0.2263},\n",
              " 88: {'neg': 0.0, 'neu': 0.701, 'pos': 0.299, 'compound': 0.4574},\n",
              " 89: {'neg': 0.0, 'neu': 0.811, 'pos': 0.189, 'compound': 0.4201},\n",
              " 90: {'neg': 0.056, 'neu': 0.944, 'pos': 0.0, 'compound': -0.7579},\n",
              " 91: {'neg': 0.0, 'neu': 0.789, 'pos': 0.211, 'compound': 0.34},\n",
              " 92: {'neg': 0.122, 'neu': 0.822, 'pos': 0.055, 'compound': -0.7156},\n",
              " 93: {'neg': 0.103, 'neu': 0.532, 'pos': 0.365, 'compound': 0.7856},\n",
              " 94: {'neg': 0.0, 'neu': 1.0, 'pos': 0.0, 'compound': 0.0},\n",
              " 95: {'neg': 0.0, 'neu': 0.213, 'pos': 0.787, 'compound': 0.5719},\n",
              " 96: {'neg': 0.092, 'neu': 0.846, 'pos': 0.062, 'compound': -0.0516},\n",
              " 97: {'neg': 0.306, 'neu': 0.694, 'pos': 0.0, 'compound': -0.296},\n",
              " 98: {'neg': 0.0, 'neu': 0.5, 'pos': 0.5, 'compound': 0.25},\n",
              " 99: {'neg': 0.058, 'neu': 0.803, 'pos': 0.139, 'compound': 0.5267},\n",
              " 100: {'neg': 0.0, 'neu': 0.411, 'pos': 0.589, 'compound': 0.5106},\n",
              " 101: {'neg': 0.333, 'neu': 0.667, 'pos': 0.0, 'compound': -0.25},\n",
              " 102: {'neg': 0.462, 'neu': 0.538, 'pos': 0.0, 'compound': -0.6486},\n",
              " 103: {'neg': 0.0, 'neu': 0.714, 'pos': 0.286, 'compound': 0.4215},\n",
              " 104: {'neg': 0.0, 'neu': 0.734, 'pos': 0.266, 'compound': 0.4404},\n",
              " 105: {'neg': 0.0, 'neu': 1.0, 'pos': 0.0, 'compound': 0.0},\n",
              " 106: {'neg': 0.0, 'neu': 1.0, 'pos': 0.0, 'compound': 0.0},\n",
              " 107: {'neg': 0.0, 'neu': 0.312, 'pos': 0.688, 'compound': 0.296},\n",
              " 108: {'neg': 0.0, 'neu': 1.0, 'pos': 0.0, 'compound': 0.0},\n",
              " 109: {'neg': 0.0, 'neu': 0.732, 'pos': 0.268, 'compound': 0.296},\n",
              " 110: {'neg': 0.0, 'neu': 1.0, 'pos': 0.0, 'compound': 0.0},\n",
              " 111: {'neg': 0.0, 'neu': 1.0, 'pos': 0.0, 'compound': 0.0},\n",
              " 112: {'neg': 0.0, 'neu': 1.0, 'pos': 0.0, 'compound': 0.0},\n",
              " 113: {'neg': 0.198, 'neu': 0.62, 'pos': 0.181, 'compound': -0.4523},\n",
              " 114: {'neg': 0.0, 'neu': 0.723, 'pos': 0.277, 'compound': 0.807},\n",
              " 115: {'neg': 0.216, 'neu': 0.49, 'pos': 0.294, 'compound': 0.2023},\n",
              " 116: {'neg': 0.195, 'neu': 0.686, 'pos': 0.119, 'compound': -0.9134},\n",
              " 117: {'neg': 0.0, 'neu': 0.633, 'pos': 0.367, 'compound': 0.8268},\n",
              " 118: {'neg': 0.0, 'neu': 0.125, 'pos': 0.875, 'compound': 0.7906},\n",
              " 119: {'neg': 0.541, 'neu': 0.459, 'pos': 0.0, 'compound': -0.7096},\n",
              " 120: {'neg': 0.212, 'neu': 0.479, 'pos': 0.309, 'compound': 0.5334},\n",
              " 121: {'neg': 0.165, 'neu': 0.552, 'pos': 0.283, 'compound': 0.6231},\n",
              " 122: {'neg': 0.388, 'neu': 0.612, 'pos': 0.0, 'compound': -0.9231},\n",
              " 123: {'neg': 0.0, 'neu': 1.0, 'pos': 0.0, 'compound': 0.0},\n",
              " 124: {'neg': 0.149, 'neu': 0.722, 'pos': 0.129, 'compound': -0.1027},\n",
              " 125: {'neg': 0.286, 'neu': 0.714, 'pos': 0.0, 'compound': -0.5859},\n",
              " 126: {'neg': 0.107, 'neu': 0.742, 'pos': 0.152, 'compound': 0.2536},\n",
              " 127: {'neg': 0.0, 'neu': 1.0, 'pos': 0.0, 'compound': 0.0},\n",
              " 128: {'neg': 0.307, 'neu': 0.693, 'pos': 0.0, 'compound': -0.7964},\n",
              " 129: {'neg': 0.251, 'neu': 0.629, 'pos': 0.12, 'compound': -0.3182},\n",
              " 130: {'neg': 0.141, 'neu': 0.826, 'pos': 0.034, 'compound': -0.7469},\n",
              " 131: {'neg': 0.0, 'neu': 1.0, 'pos': 0.0, 'compound': 0.0},\n",
              " 132: {'neg': 0.161, 'neu': 0.839, 'pos': 0.0, 'compound': -0.3612},\n",
              " 133: {'neg': 0.0, 'neu': 1.0, 'pos': 0.0, 'compound': 0.0},\n",
              " 134: {'neg': 0.178, 'neu': 0.822, 'pos': 0.0, 'compound': -0.872},\n",
              " 135: {'neg': 0.076, 'neu': 0.765, 'pos': 0.159, 'compound': 0.4939},\n",
              " 136: {'neg': 0.0, 'neu': 0.746, 'pos': 0.254, 'compound': 0.7579},\n",
              " 137: {'neg': 0.0, 'neu': 1.0, 'pos': 0.0, 'compound': 0.0},\n",
              " 138: {'neg': 0.0, 'neu': 0.847, 'pos': 0.153, 'compound': 0.7689},\n",
              " 139: {'neg': 0.198, 'neu': 0.74, 'pos': 0.062, 'compound': -0.6808},\n",
              " 140: {'neg': 0.0, 'neu': 0.801, 'pos': 0.199, 'compound': 0.7158},\n",
              " 141: {'neg': 0.074, 'neu': 0.794, 'pos': 0.132, 'compound': 0.4615},\n",
              " 142: {'neg': 0.0, 'neu': 1.0, 'pos': 0.0, 'compound': 0.0},\n",
              " 143: {'neg': 0.0, 'neu': 0.761, 'pos': 0.239, 'compound': 0.9398},\n",
              " 144: {'neg': 0.365, 'neu': 0.604, 'pos': 0.031, 'compound': -0.965},\n",
              " 145: {'neg': 0.0, 'neu': 1.0, 'pos': 0.0, 'compound': 0.0},\n",
              " 146: {'neg': 0.152, 'neu': 0.805, 'pos': 0.043, 'compound': -0.8701},\n",
              " 147: {'neg': 0.0, 'neu': 1.0, 'pos': 0.0, 'compound': 0.0},\n",
              " 148: {'neg': 0.0, 'neu': 0.61, 'pos': 0.39, 'compound': 0.4926},\n",
              " 149: {'neg': 0.068, 'neu': 0.74, 'pos': 0.192, 'compound': 0.5469},\n",
              " 150: {'neg': 0.0, 'neu': 0.286, 'pos': 0.714, 'compound': 0.3612},\n",
              " 151: {'neg': 0.0, 'neu': 1.0, 'pos': 0.0, 'compound': 0.0},\n",
              " 152: {'neg': 0.261, 'neu': 0.622, 'pos': 0.116, 'compound': -0.8402},\n",
              " 153: {'neg': 0.0, 'neu': 0.828, 'pos': 0.172, 'compound': 0.4404},\n",
              " 154: {'neg': 0.0, 'neu': 1.0, 'pos': 0.0, 'compound': 0.0},\n",
              " 155: {'neg': 0.409, 'neu': 0.591, 'pos': 0.0, 'compound': -0.4144},\n",
              " 156: {'neg': 0.0, 'neu': 0.828, 'pos': 0.172, 'compound': 0.3612},\n",
              " 157: {'neg': 0.053, 'neu': 0.851, 'pos': 0.097, 'compound': 0.4404},\n",
              " 158: {'neg': 0.0, 'neu': 1.0, 'pos': 0.0, 'compound': 0.0},\n",
              " 159: {'neg': 0.0, 'neu': 1.0, 'pos': 0.0, 'compound': 0.0},\n",
              " 160: {'neg': 0.559, 'neu': 0.441, 'pos': 0.0, 'compound': -0.9287},\n",
              " 161: {'neg': 0.0, 'neu': 1.0, 'pos': 0.0, 'compound': 0.0},\n",
              " 162: {'neg': 0.0, 'neu': 0.774, 'pos': 0.226, 'compound': 0.5859},\n",
              " 163: {'neg': 0.226, 'neu': 0.774, 'pos': 0.0, 'compound': -0.4432},\n",
              " 164: {'neg': 0.0, 'neu': 1.0, 'pos': 0.0, 'compound': 0.0},\n",
              " 165: {'neg': 0.0, 'neu': 1.0, 'pos': 0.0, 'compound': 0.0},\n",
              " 166: {'neg': 0.252, 'neu': 0.748, 'pos': 0.0, 'compound': -0.4023},\n",
              " 167: {'neg': 0.0, 'neu': 0.777, 'pos': 0.223, 'compound': 0.3182},\n",
              " 168: {'neg': 0.0, 'neu': 0.647, 'pos': 0.353, 'compound': 0.8689},\n",
              " 169: {'neg': 0.0, 'neu': 1.0, 'pos': 0.0, 'compound': 0.0}}"
            ]
          },
          "metadata": {},
          "execution_count": 20
        }
      ]
    },
    {
      "cell_type": "code",
      "source": [
        "vaders = pd.DataFrame(res).T"
      ],
      "metadata": {
        "id": "MfaVsMvuSfER"
      },
      "execution_count": 21,
      "outputs": []
    },
    {
      "cell_type": "code",
      "source": [
        "vaders = vaders.reset_index().rename(columns={'index': 'Id'})"
      ],
      "metadata": {
        "id": "GD9zF5WFT1DG"
      },
      "execution_count": 22,
      "outputs": []
    },
    {
      "cell_type": "code",
      "source": [
        "merged_df = pd.merge(df, vaders, left_on='id', right_on='Id')"
      ],
      "metadata": {
        "id": "nx-A3KjBTAX4"
      },
      "execution_count": 23,
      "outputs": []
    },
    {
      "cell_type": "code",
      "source": [
        "merged_df"
      ],
      "metadata": {
        "colab": {
          "base_uri": "https://localhost:8080/",
          "height": 641
        },
        "id": "DQx4qVumUEAx",
        "outputId": "95c0ede9-4d64-4580-e917-58fba5176443"
      },
      "execution_count": 24,
      "outputs": [
        {
          "output_type": "execute_result",
          "data": {
            "text/plain": [
              "      id                                               text  like_count  \\\n",
              "0      0  “Being emotional got the best of him” \\nProcee...         116   \n",
              "1      1  Russian state media is hilarious to watch -- i...          77   \n",
              "2      4  \"Don't interrupt when your enemies are making ...          72   \n",
              "3      5  Mercenaries training a professional army. Now ...          67   \n",
              "4     48  NATO is stronger than it has EVER been! Sweden...          53   \n",
              "..   ...                                                ...         ...   \n",
              "165  107                                            🇨🇭🇷🇺❤️🤑           0   \n",
              "166  106         How do you know Putin is not a strong man?           0   \n",
              "167  105  Cool, Wagner training Belarussians how to over...           0   \n",
              "168  104  I love the pseudo military \"uniform\" lol Fox \"...           0   \n",
              "169  169                         Putin is loosing his grip.           0   \n",
              "\n",
              "                published   Id    neg    neu    pos  compound  \n",
              "0    2023-07-15T01:33:57Z    0  0.340  0.467  0.193   -0.6597  \n",
              "1    2023-07-15T05:50:45Z    1  0.000  0.876  0.124    0.4019  \n",
              "2    2023-07-15T00:45:03Z    4  0.198  0.517  0.284    0.7678  \n",
              "3    2023-07-15T00:54:04Z    5  0.000  1.000  0.000    0.0000  \n",
              "4    2023-07-15T00:46:42Z   48  0.000  0.847  0.153    0.5859  \n",
              "..                    ...  ...    ...    ...    ...       ...  \n",
              "165  2023-07-15T06:29:50Z  107  0.000  0.312  0.688    0.2960  \n",
              "166  2023-07-15T10:31:27Z  106  0.000  1.000  0.000    0.0000  \n",
              "167  2023-07-15T11:41:21Z  105  0.000  1.000  0.000    0.0000  \n",
              "168  2023-07-15T02:43:53Z  104  0.000  0.734  0.266    0.4404  \n",
              "169  2023-07-15T05:06:32Z  169  0.000  1.000  0.000    0.0000  \n",
              "\n",
              "[170 rows x 9 columns]"
            ],
            "text/html": [
              "\n",
              "\n",
              "  <div id=\"df-58517659-4f34-4cdb-a970-4f8d5ad33c37\">\n",
              "    <div class=\"colab-df-container\">\n",
              "      <div>\n",
              "<style scoped>\n",
              "    .dataframe tbody tr th:only-of-type {\n",
              "        vertical-align: middle;\n",
              "    }\n",
              "\n",
              "    .dataframe tbody tr th {\n",
              "        vertical-align: top;\n",
              "    }\n",
              "\n",
              "    .dataframe thead th {\n",
              "        text-align: right;\n",
              "    }\n",
              "</style>\n",
              "<table border=\"1\" class=\"dataframe\">\n",
              "  <thead>\n",
              "    <tr style=\"text-align: right;\">\n",
              "      <th></th>\n",
              "      <th>id</th>\n",
              "      <th>text</th>\n",
              "      <th>like_count</th>\n",
              "      <th>published</th>\n",
              "      <th>Id</th>\n",
              "      <th>neg</th>\n",
              "      <th>neu</th>\n",
              "      <th>pos</th>\n",
              "      <th>compound</th>\n",
              "    </tr>\n",
              "  </thead>\n",
              "  <tbody>\n",
              "    <tr>\n",
              "      <th>0</th>\n",
              "      <td>0</td>\n",
              "      <td>“Being emotional got the best of him” \\nProcee...</td>\n",
              "      <td>116</td>\n",
              "      <td>2023-07-15T01:33:57Z</td>\n",
              "      <td>0</td>\n",
              "      <td>0.340</td>\n",
              "      <td>0.467</td>\n",
              "      <td>0.193</td>\n",
              "      <td>-0.6597</td>\n",
              "    </tr>\n",
              "    <tr>\n",
              "      <th>1</th>\n",
              "      <td>1</td>\n",
              "      <td>Russian state media is hilarious to watch -- i...</td>\n",
              "      <td>77</td>\n",
              "      <td>2023-07-15T05:50:45Z</td>\n",
              "      <td>1</td>\n",
              "      <td>0.000</td>\n",
              "      <td>0.876</td>\n",
              "      <td>0.124</td>\n",
              "      <td>0.4019</td>\n",
              "    </tr>\n",
              "    <tr>\n",
              "      <th>2</th>\n",
              "      <td>4</td>\n",
              "      <td>\"Don't interrupt when your enemies are making ...</td>\n",
              "      <td>72</td>\n",
              "      <td>2023-07-15T00:45:03Z</td>\n",
              "      <td>4</td>\n",
              "      <td>0.198</td>\n",
              "      <td>0.517</td>\n",
              "      <td>0.284</td>\n",
              "      <td>0.7678</td>\n",
              "    </tr>\n",
              "    <tr>\n",
              "      <th>3</th>\n",
              "      <td>5</td>\n",
              "      <td>Mercenaries training a professional army. Now ...</td>\n",
              "      <td>67</td>\n",
              "      <td>2023-07-15T00:54:04Z</td>\n",
              "      <td>5</td>\n",
              "      <td>0.000</td>\n",
              "      <td>1.000</td>\n",
              "      <td>0.000</td>\n",
              "      <td>0.0000</td>\n",
              "    </tr>\n",
              "    <tr>\n",
              "      <th>4</th>\n",
              "      <td>48</td>\n",
              "      <td>NATO is stronger than it has EVER been! Sweden...</td>\n",
              "      <td>53</td>\n",
              "      <td>2023-07-15T00:46:42Z</td>\n",
              "      <td>48</td>\n",
              "      <td>0.000</td>\n",
              "      <td>0.847</td>\n",
              "      <td>0.153</td>\n",
              "      <td>0.5859</td>\n",
              "    </tr>\n",
              "    <tr>\n",
              "      <th>...</th>\n",
              "      <td>...</td>\n",
              "      <td>...</td>\n",
              "      <td>...</td>\n",
              "      <td>...</td>\n",
              "      <td>...</td>\n",
              "      <td>...</td>\n",
              "      <td>...</td>\n",
              "      <td>...</td>\n",
              "      <td>...</td>\n",
              "    </tr>\n",
              "    <tr>\n",
              "      <th>165</th>\n",
              "      <td>107</td>\n",
              "      <td>🇨🇭🇷🇺❤️🤑</td>\n",
              "      <td>0</td>\n",
              "      <td>2023-07-15T06:29:50Z</td>\n",
              "      <td>107</td>\n",
              "      <td>0.000</td>\n",
              "      <td>0.312</td>\n",
              "      <td>0.688</td>\n",
              "      <td>0.2960</td>\n",
              "    </tr>\n",
              "    <tr>\n",
              "      <th>166</th>\n",
              "      <td>106</td>\n",
              "      <td>How do you know Putin is not a strong man?</td>\n",
              "      <td>0</td>\n",
              "      <td>2023-07-15T10:31:27Z</td>\n",
              "      <td>106</td>\n",
              "      <td>0.000</td>\n",
              "      <td>1.000</td>\n",
              "      <td>0.000</td>\n",
              "      <td>0.0000</td>\n",
              "    </tr>\n",
              "    <tr>\n",
              "      <th>167</th>\n",
              "      <td>105</td>\n",
              "      <td>Cool, Wagner training Belarussians how to over...</td>\n",
              "      <td>0</td>\n",
              "      <td>2023-07-15T11:41:21Z</td>\n",
              "      <td>105</td>\n",
              "      <td>0.000</td>\n",
              "      <td>1.000</td>\n",
              "      <td>0.000</td>\n",
              "      <td>0.0000</td>\n",
              "    </tr>\n",
              "    <tr>\n",
              "      <th>168</th>\n",
              "      <td>104</td>\n",
              "      <td>I love the pseudo military \"uniform\" lol Fox \"...</td>\n",
              "      <td>0</td>\n",
              "      <td>2023-07-15T02:43:53Z</td>\n",
              "      <td>104</td>\n",
              "      <td>0.000</td>\n",
              "      <td>0.734</td>\n",
              "      <td>0.266</td>\n",
              "      <td>0.4404</td>\n",
              "    </tr>\n",
              "    <tr>\n",
              "      <th>169</th>\n",
              "      <td>169</td>\n",
              "      <td>Putin is loosing his grip.</td>\n",
              "      <td>0</td>\n",
              "      <td>2023-07-15T05:06:32Z</td>\n",
              "      <td>169</td>\n",
              "      <td>0.000</td>\n",
              "      <td>1.000</td>\n",
              "      <td>0.000</td>\n",
              "      <td>0.0000</td>\n",
              "    </tr>\n",
              "  </tbody>\n",
              "</table>\n",
              "<p>170 rows × 9 columns</p>\n",
              "</div>\n",
              "      <button class=\"colab-df-convert\" onclick=\"convertToInteractive('df-58517659-4f34-4cdb-a970-4f8d5ad33c37')\"\n",
              "              title=\"Convert this dataframe to an interactive table.\"\n",
              "              style=\"display:none;\">\n",
              "\n",
              "  <svg xmlns=\"http://www.w3.org/2000/svg\" height=\"24px\"viewBox=\"0 0 24 24\"\n",
              "       width=\"24px\">\n",
              "    <path d=\"M0 0h24v24H0V0z\" fill=\"none\"/>\n",
              "    <path d=\"M18.56 5.44l.94 2.06.94-2.06 2.06-.94-2.06-.94-.94-2.06-.94 2.06-2.06.94zm-11 1L8.5 8.5l.94-2.06 2.06-.94-2.06-.94L8.5 2.5l-.94 2.06-2.06.94zm10 10l.94 2.06.94-2.06 2.06-.94-2.06-.94-.94-2.06-.94 2.06-2.06.94z\"/><path d=\"M17.41 7.96l-1.37-1.37c-.4-.4-.92-.59-1.43-.59-.52 0-1.04.2-1.43.59L10.3 9.45l-7.72 7.72c-.78.78-.78 2.05 0 2.83L4 21.41c.39.39.9.59 1.41.59.51 0 1.02-.2 1.41-.59l7.78-7.78 2.81-2.81c.8-.78.8-2.07 0-2.86zM5.41 20L4 18.59l7.72-7.72 1.47 1.35L5.41 20z\"/>\n",
              "  </svg>\n",
              "      </button>\n",
              "\n",
              "\n",
              "\n",
              "    <div id=\"df-035b1c6d-d0a9-46ce-809e-1e7ceb4939fd\">\n",
              "      <button class=\"colab-df-quickchart\" onclick=\"quickchart('df-035b1c6d-d0a9-46ce-809e-1e7ceb4939fd')\"\n",
              "              title=\"Suggest charts.\"\n",
              "              style=\"display:none;\">\n",
              "\n",
              "<svg xmlns=\"http://www.w3.org/2000/svg\" height=\"24px\"viewBox=\"0 0 24 24\"\n",
              "     width=\"24px\">\n",
              "    <g>\n",
              "        <path d=\"M19 3H5c-1.1 0-2 .9-2 2v14c0 1.1.9 2 2 2h14c1.1 0 2-.9 2-2V5c0-1.1-.9-2-2-2zM9 17H7v-7h2v7zm4 0h-2V7h2v10zm4 0h-2v-4h2v4z\"/>\n",
              "    </g>\n",
              "</svg>\n",
              "      </button>\n",
              "    </div>\n",
              "\n",
              "<style>\n",
              "  .colab-df-quickchart {\n",
              "    background-color: #E8F0FE;\n",
              "    border: none;\n",
              "    border-radius: 50%;\n",
              "    cursor: pointer;\n",
              "    display: none;\n",
              "    fill: #1967D2;\n",
              "    height: 32px;\n",
              "    padding: 0 0 0 0;\n",
              "    width: 32px;\n",
              "  }\n",
              "\n",
              "  .colab-df-quickchart:hover {\n",
              "    background-color: #E2EBFA;\n",
              "    box-shadow: 0px 1px 2px rgba(60, 64, 67, 0.3), 0px 1px 3px 1px rgba(60, 64, 67, 0.15);\n",
              "    fill: #174EA6;\n",
              "  }\n",
              "\n",
              "  [theme=dark] .colab-df-quickchart {\n",
              "    background-color: #3B4455;\n",
              "    fill: #D2E3FC;\n",
              "  }\n",
              "\n",
              "  [theme=dark] .colab-df-quickchart:hover {\n",
              "    background-color: #434B5C;\n",
              "    box-shadow: 0px 1px 3px 1px rgba(0, 0, 0, 0.15);\n",
              "    filter: drop-shadow(0px 1px 2px rgba(0, 0, 0, 0.3));\n",
              "    fill: #FFFFFF;\n",
              "  }\n",
              "</style>\n",
              "\n",
              "    <script>\n",
              "      async function quickchart(key) {\n",
              "        const containerElement = document.querySelector('#' + key);\n",
              "        const charts = await google.colab.kernel.invokeFunction(\n",
              "            'suggestCharts', [key], {});\n",
              "      }\n",
              "    </script>\n",
              "\n",
              "      <script>\n",
              "\n",
              "function displayQuickchartButton(domScope) {\n",
              "  let quickchartButtonEl =\n",
              "    domScope.querySelector('#df-035b1c6d-d0a9-46ce-809e-1e7ceb4939fd button.colab-df-quickchart');\n",
              "  quickchartButtonEl.style.display =\n",
              "    google.colab.kernel.accessAllowed ? 'block' : 'none';\n",
              "}\n",
              "\n",
              "        displayQuickchartButton(document);\n",
              "      </script>\n",
              "      <style>\n",
              "    .colab-df-container {\n",
              "      display:flex;\n",
              "      flex-wrap:wrap;\n",
              "      gap: 12px;\n",
              "    }\n",
              "\n",
              "    .colab-df-convert {\n",
              "      background-color: #E8F0FE;\n",
              "      border: none;\n",
              "      border-radius: 50%;\n",
              "      cursor: pointer;\n",
              "      display: none;\n",
              "      fill: #1967D2;\n",
              "      height: 32px;\n",
              "      padding: 0 0 0 0;\n",
              "      width: 32px;\n",
              "    }\n",
              "\n",
              "    .colab-df-convert:hover {\n",
              "      background-color: #E2EBFA;\n",
              "      box-shadow: 0px 1px 2px rgba(60, 64, 67, 0.3), 0px 1px 3px 1px rgba(60, 64, 67, 0.15);\n",
              "      fill: #174EA6;\n",
              "    }\n",
              "\n",
              "    [theme=dark] .colab-df-convert {\n",
              "      background-color: #3B4455;\n",
              "      fill: #D2E3FC;\n",
              "    }\n",
              "\n",
              "    [theme=dark] .colab-df-convert:hover {\n",
              "      background-color: #434B5C;\n",
              "      box-shadow: 0px 1px 3px 1px rgba(0, 0, 0, 0.15);\n",
              "      filter: drop-shadow(0px 1px 2px rgba(0, 0, 0, 0.3));\n",
              "      fill: #FFFFFF;\n",
              "    }\n",
              "  </style>\n",
              "\n",
              "      <script>\n",
              "        const buttonEl =\n",
              "          document.querySelector('#df-58517659-4f34-4cdb-a970-4f8d5ad33c37 button.colab-df-convert');\n",
              "        buttonEl.style.display =\n",
              "          google.colab.kernel.accessAllowed ? 'block' : 'none';\n",
              "\n",
              "        async function convertToInteractive(key) {\n",
              "          const element = document.querySelector('#df-58517659-4f34-4cdb-a970-4f8d5ad33c37');\n",
              "          const dataTable =\n",
              "            await google.colab.kernel.invokeFunction('convertToInteractive',\n",
              "                                                     [key], {});\n",
              "          if (!dataTable) return;\n",
              "\n",
              "          const docLinkHtml = 'Like what you see? Visit the ' +\n",
              "            '<a target=\"_blank\" href=https://colab.research.google.com/notebooks/data_table.ipynb>data table notebook</a>'\n",
              "            + ' to learn more about interactive tables.';\n",
              "          element.innerHTML = '';\n",
              "          dataTable['output_type'] = 'display_data';\n",
              "          await google.colab.output.renderOutput(dataTable, element);\n",
              "          const docLink = document.createElement('div');\n",
              "          docLink.innerHTML = docLinkHtml;\n",
              "          element.appendChild(docLink);\n",
              "        }\n",
              "      </script>\n",
              "    </div>\n",
              "  </div>\n"
            ]
          },
          "metadata": {},
          "execution_count": 24
        }
      ]
    },
    {
      "cell_type": "markdown",
      "source": [
        "Roberta Pretrained Model"
      ],
      "metadata": {
        "id": "7JDkCWEEVd_y"
      }
    },
    {
      "cell_type": "code",
      "source": [
        "!pip install transformers"
      ],
      "metadata": {
        "colab": {
          "base_uri": "https://localhost:8080/"
        },
        "collapsed": true,
        "id": "LLbjxgMyVaBr",
        "outputId": "bcee12aa-e56d-469b-aebe-1ecf899b666a"
      },
      "execution_count": 25,
      "outputs": [
        {
          "output_type": "stream",
          "name": "stdout",
          "text": [
            "Requirement already satisfied: transformers in /usr/local/lib/python3.10/dist-packages (4.30.2)\n",
            "Requirement already satisfied: filelock in /usr/local/lib/python3.10/dist-packages (from transformers) (3.12.2)\n",
            "Requirement already satisfied: huggingface-hub<1.0,>=0.14.1 in /usr/local/lib/python3.10/dist-packages (from transformers) (0.16.4)\n",
            "Requirement already satisfied: numpy>=1.17 in /usr/local/lib/python3.10/dist-packages (from transformers) (1.22.4)\n",
            "Requirement already satisfied: packaging>=20.0 in /usr/local/lib/python3.10/dist-packages (from transformers) (23.1)\n",
            "Requirement already satisfied: pyyaml>=5.1 in /usr/local/lib/python3.10/dist-packages (from transformers) (6.0)\n",
            "Requirement already satisfied: regex!=2019.12.17 in /usr/local/lib/python3.10/dist-packages (from transformers) (2022.10.31)\n",
            "Requirement already satisfied: requests in /usr/local/lib/python3.10/dist-packages (from transformers) (2.27.1)\n",
            "Requirement already satisfied: tokenizers!=0.11.3,<0.14,>=0.11.1 in /usr/local/lib/python3.10/dist-packages (from transformers) (0.13.3)\n",
            "Requirement already satisfied: safetensors>=0.3.1 in /usr/local/lib/python3.10/dist-packages (from transformers) (0.3.1)\n",
            "Requirement already satisfied: tqdm>=4.27 in /usr/local/lib/python3.10/dist-packages (from transformers) (4.65.0)\n",
            "Requirement already satisfied: fsspec in /usr/local/lib/python3.10/dist-packages (from huggingface-hub<1.0,>=0.14.1->transformers) (2023.6.0)\n",
            "Requirement already satisfied: typing-extensions>=3.7.4.3 in /usr/local/lib/python3.10/dist-packages (from huggingface-hub<1.0,>=0.14.1->transformers) (4.7.1)\n",
            "Requirement already satisfied: urllib3<1.27,>=1.21.1 in /usr/local/lib/python3.10/dist-packages (from requests->transformers) (1.26.16)\n",
            "Requirement already satisfied: certifi>=2017.4.17 in /usr/local/lib/python3.10/dist-packages (from requests->transformers) (2023.5.7)\n",
            "Requirement already satisfied: charset-normalizer~=2.0.0 in /usr/local/lib/python3.10/dist-packages (from requests->transformers) (2.0.12)\n",
            "Requirement already satisfied: idna<4,>=2.5 in /usr/local/lib/python3.10/dist-packages (from requests->transformers) (3.4)\n"
          ]
        }
      ]
    },
    {
      "cell_type": "code",
      "source": [],
      "metadata": {
        "id": "5GBoWWWsVjBm"
      },
      "execution_count": 25,
      "outputs": []
    }
  ]
}